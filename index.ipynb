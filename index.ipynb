{
 "cells": [
  {
   "cell_type": "markdown",
   "metadata": {},
   "source": [
    "# Your First Data Science Codealong!\n",
    "\n",
    "## Introduction\n",
    "\n",
    "In this codealong, you'll get your first taste of a real Data Science workflow! You'll use Jupyter Notebook to import pre-written packages, import data into your notebook from a Comma Seperated Values file (a .csv file), and you'll even get to create some plots!\n",
    "\n",
    "Don't worry if some of these terms are unfamiliar or you get confused in this codealong. Our goal here is just to give you a taste of what you'll be able to do as a Data Scientist, and afterwards, we'll go back and re-introduce all of the concepts that we skimmed over this time through. By the end of the section, you should have a much stronger understanding of this process - even if you have no previous programming experience.\n",
    "\n",
    "Just take your time to explore the data and the code!"
   ]
  },
  {
   "cell_type": "markdown",
   "metadata": {},
   "source": [
    "## Objectives\n",
    "You will be able to:\n",
    "* Perform cell operations within Jupyter Notebooks\n",
    "* Use import statements to import and alias Python modules"
   ]
  },
  {
   "cell_type": "markdown",
   "metadata": {},
   "source": [
    "## Jupyter Notebook and Running Cells\n",
    "\n",
    "**Welcome to programming!**\n",
    "Juptyer Notebooks (historically called IPython Notebooks) will be our primary tool when analyzing data. The first thing to know with this is that each cell block [of code] can be run be pressing **shift + enter**. Try running the below code block:"
   ]
  },
  {
   "cell_type": "code",
   "execution_count": 1,
   "metadata": {},
   "outputs": [
    {
     "name": "stdout",
     "output_type": "stream",
     "text": [
      "This is code being run.\n"
     ]
    }
   ],
   "source": [
    "print('This is code being run.')"
   ]
  },
  {
   "cell_type": "markdown",
   "metadata": {},
   "source": [
    "As you can see, running the code above printed text to the screen. You will learn later that ```print``` is an example of a \"function\". Functions are blocks of reusable code that execute a particular task. When functions are associated with a specific object they are called \"methods.\" Don't worry about the details right now, you will learn more about functions and methods later."
   ]
  },
  {
   "cell_type": "markdown",
   "metadata": {},
   "source": [
    "## Importing Packages\n",
    "The next thing we're going to do is load in some Python packages that will be part of our toolbox for manipulating and analyzing data. Again, don't worry if you are not sure what a Python package is. For now, just think of packages as collections of specialized tools for performing specific tasks. The standard Python package for working with data tables is called **pandas**. Below, we import this under the **alias** `pd`, which is the industry standard. This will give us a shorthand way to access special functions and methods within the package without having to type the longer name pandas. Similarly, we will also import a specialized package for plotting data called **matplotlib** under the alias `plt`. Pandas and matplotlib will be introduced in detail later. \n",
    "\n",
    "* Again, press **shift+enter** to run the code below"
   ]
  },
  {
   "cell_type": "code",
   "execution_count": 3,
   "metadata": {},
   "outputs": [],
   "source": [
    "import pandas as pd\n",
    "import matplotlib.pyplot as plt\n",
    "%matplotlib inline"
   ]
  },
  {
   "cell_type": "markdown",
   "metadata": {},
   "source": [
    "## Jupyter Notebook Cell Types\n",
    "\n",
    "You might have started to notice that the code blocks have little notes that say **In [ ]:** before you run them, and then are filled with a number after you run them. This is important, as it tells you in what order the cell blocks were run. (Which can affect how a program runs.)\n",
    "\n",
    "You may also notice that other cell blocks, such as this one, do not have the **In [ ]:** label as with the code blocks. This is because this cell block is formatted as **Markdown** rather than code. The details of Markdown are not important here but just know you can use Markdown cell blocks to display text. They are really useful for embedding notes and explanations in your Jupyter Notebook. You can see (and change) what type of cell is by clicking the dropdown menu at the top:\n",
    "<img src=\"images/jupyter_notebook_cell_type_dropdown.png\" width=\"750\">"
   ]
  },
  {
   "cell_type": "markdown",
   "metadata": {},
   "source": [
    "## Command Versus Edit Mode\n",
    "\n",
    "You should also start to notice that when you are in a cell writing code (or notes), the cell is highlighted in **green** meaning you are in **edit mode**. \n",
    "\n",
    "Alternatively, if you **press esc**, the cursor will be in **blue** inidicating that you are in **command mode**.\n",
    "\n",
    "### Edit Mode\n",
    "Edit mode is the standard mode for editing cells, whether it's writing code or notes.\n",
    "To enter edit mode from command mode simply hit enter, or double click on a cell.\n",
    "\n",
    "### Command Mode\n",
    "In command mode, you can delete cells, add cells, copy cells, paste cells, change cell types, and more. You can also do these tasks in a more cumbersome (and time consuming) manner by using the various headers in the menu bar at top.\n",
    "<img src=\"images/jupyter_menu.png\" width=\"800\">\n",
    "You can also see a full list of shortcuts available in command and edit mode under the help menu.\n",
    "\n",
    "<img src=\"images/jupyter_help_menu.png\" width=\"800\">"
   ]
  },
  {
   "cell_type": "markdown",
   "metadata": {},
   "source": [
    "## Running Bash Commands\n",
    "\n",
    "We can also run bash commands just as we did before from the terminal directly within Jupyter Notebooks!  \n",
    " (Note: bash commands cannot be mixed with Python and must be in their own cell block.)   \n",
    " \n",
    "Try it out!"
   ]
  },
  {
   "cell_type": "code",
   "execution_count": 4,
   "metadata": {},
   "outputs": [
    {
     "data": {
      "text/plain": [
       "'/Users/stlanier/Flatiron School/section01/dsc-first-codealong-onl01-dtsc-pt-012120'"
      ]
     },
     "execution_count": 4,
     "metadata": {},
     "output_type": "execute_result"
    }
   ],
   "source": [
    "pwd"
   ]
  },
  {
   "cell_type": "code",
   "execution_count": 5,
   "metadata": {},
   "outputs": [
    {
     "name": "stdout",
     "output_type": "stream",
     "text": [
      "CONTRIBUTING.md  README.md        index.ipynb      \u001b[31mlego_sets.csv\u001b[m\u001b[m*\r\n",
      "LICENSE.md       \u001b[34mimages\u001b[m\u001b[m/          \u001b[34mindex_files\u001b[m\u001b[m/\r\n"
     ]
    }
   ],
   "source": [
    "ls"
   ]
  },
  {
   "cell_type": "markdown",
   "metadata": {},
   "source": [
    "## Loading a DataFrame\n",
    "Now that you've seen how to navigate Jupyter Notebook cells, you're ready to work with some data. The primary datatype within the pandas package is called a dataframe and is similar to a spreadsheet in excel. Here's a brief example illustrating how to read a csv file from your hard drive and store its contents in a dataframe:"
   ]
  },
  {
   "cell_type": "code",
   "execution_count": 6,
   "metadata": {
    "scrolled": true
   },
   "outputs": [
    {
     "name": "stdout",
     "output_type": "stream",
     "text": [
      "12261\n"
     ]
    },
    {
     "data": {
      "text/html": [
       "<div>\n",
       "<style scoped>\n",
       "    .dataframe tbody tr th:only-of-type {\n",
       "        vertical-align: middle;\n",
       "    }\n",
       "\n",
       "    .dataframe tbody tr th {\n",
       "        vertical-align: top;\n",
       "    }\n",
       "\n",
       "    .dataframe thead th {\n",
       "        text-align: right;\n",
       "    }\n",
       "</style>\n",
       "<table border=\"1\" class=\"dataframe\">\n",
       "  <thead>\n",
       "    <tr style=\"text-align: right;\">\n",
       "      <th></th>\n",
       "      <th>ages</th>\n",
       "      <th>list_price</th>\n",
       "      <th>num_reviews</th>\n",
       "      <th>piece_count</th>\n",
       "      <th>play_star_rating</th>\n",
       "      <th>prod_desc</th>\n",
       "      <th>prod_id</th>\n",
       "      <th>prod_long_desc</th>\n",
       "      <th>review_difficulty</th>\n",
       "      <th>set_name</th>\n",
       "      <th>star_rating</th>\n",
       "      <th>theme_name</th>\n",
       "      <th>val_star_rating</th>\n",
       "      <th>country</th>\n",
       "    </tr>\n",
       "  </thead>\n",
       "  <tbody>\n",
       "    <tr>\n",
       "      <td>0</td>\n",
       "      <td>6-12</td>\n",
       "      <td>29.99</td>\n",
       "      <td>2.0</td>\n",
       "      <td>277.0</td>\n",
       "      <td>4.0</td>\n",
       "      <td>Catapult into action and take back the eggs fr...</td>\n",
       "      <td>75823.0</td>\n",
       "      <td>Use the staircase catapult to launch Red into ...</td>\n",
       "      <td>Average</td>\n",
       "      <td>Bird Island Egg Heist</td>\n",
       "      <td>4.5</td>\n",
       "      <td>Angry Birds™</td>\n",
       "      <td>4.0</td>\n",
       "      <td>US</td>\n",
       "    </tr>\n",
       "    <tr>\n",
       "      <td>1</td>\n",
       "      <td>6-12</td>\n",
       "      <td>19.99</td>\n",
       "      <td>2.0</td>\n",
       "      <td>168.0</td>\n",
       "      <td>4.0</td>\n",
       "      <td>Launch a flying attack and rescue the eggs fro...</td>\n",
       "      <td>75822.0</td>\n",
       "      <td>Pilot Pig has taken off from Bird Island with ...</td>\n",
       "      <td>Easy</td>\n",
       "      <td>Piggy Plane Attack</td>\n",
       "      <td>5.0</td>\n",
       "      <td>Angry Birds™</td>\n",
       "      <td>4.0</td>\n",
       "      <td>US</td>\n",
       "    </tr>\n",
       "    <tr>\n",
       "      <td>2</td>\n",
       "      <td>6-12</td>\n",
       "      <td>12.99</td>\n",
       "      <td>11.0</td>\n",
       "      <td>74.0</td>\n",
       "      <td>4.3</td>\n",
       "      <td>Chase the piggy with lightning-fast Chuck and ...</td>\n",
       "      <td>75821.0</td>\n",
       "      <td>Pitch speedy bird Chuck against the Piggy Car....</td>\n",
       "      <td>Easy</td>\n",
       "      <td>Piggy Car Escape</td>\n",
       "      <td>4.3</td>\n",
       "      <td>Angry Birds™</td>\n",
       "      <td>4.1</td>\n",
       "      <td>US</td>\n",
       "    </tr>\n",
       "    <tr>\n",
       "      <td>3</td>\n",
       "      <td>12+</td>\n",
       "      <td>99.99</td>\n",
       "      <td>23.0</td>\n",
       "      <td>1032.0</td>\n",
       "      <td>3.6</td>\n",
       "      <td>Explore the architecture of the United States ...</td>\n",
       "      <td>21030.0</td>\n",
       "      <td>Discover the architectural secrets of the icon...</td>\n",
       "      <td>Average</td>\n",
       "      <td>United States Capitol Building</td>\n",
       "      <td>4.6</td>\n",
       "      <td>Architecture</td>\n",
       "      <td>4.3</td>\n",
       "      <td>US</td>\n",
       "    </tr>\n",
       "    <tr>\n",
       "      <td>4</td>\n",
       "      <td>12+</td>\n",
       "      <td>79.99</td>\n",
       "      <td>14.0</td>\n",
       "      <td>744.0</td>\n",
       "      <td>3.2</td>\n",
       "      <td>Recreate the Solomon R. Guggenheim Museum® wit...</td>\n",
       "      <td>21035.0</td>\n",
       "      <td>Discover the architectural secrets of Frank Ll...</td>\n",
       "      <td>Challenging</td>\n",
       "      <td>Solomon R. Guggenheim Museum®</td>\n",
       "      <td>4.6</td>\n",
       "      <td>Architecture</td>\n",
       "      <td>4.1</td>\n",
       "      <td>US</td>\n",
       "    </tr>\n",
       "  </tbody>\n",
       "</table>\n",
       "</div>"
      ],
      "text/plain": [
       "   ages  list_price  num_reviews  piece_count  play_star_rating  \\\n",
       "0  6-12       29.99          2.0        277.0               4.0   \n",
       "1  6-12       19.99          2.0        168.0               4.0   \n",
       "2  6-12       12.99         11.0         74.0               4.3   \n",
       "3   12+       99.99         23.0       1032.0               3.6   \n",
       "4   12+       79.99         14.0        744.0               3.2   \n",
       "\n",
       "                                           prod_desc  prod_id  \\\n",
       "0  Catapult into action and take back the eggs fr...  75823.0   \n",
       "1  Launch a flying attack and rescue the eggs fro...  75822.0   \n",
       "2  Chase the piggy with lightning-fast Chuck and ...  75821.0   \n",
       "3  Explore the architecture of the United States ...  21030.0   \n",
       "4  Recreate the Solomon R. Guggenheim Museum® wit...  21035.0   \n",
       "\n",
       "                                      prod_long_desc review_difficulty  \\\n",
       "0  Use the staircase catapult to launch Red into ...           Average   \n",
       "1  Pilot Pig has taken off from Bird Island with ...              Easy   \n",
       "2  Pitch speedy bird Chuck against the Piggy Car....              Easy   \n",
       "3  Discover the architectural secrets of the icon...           Average   \n",
       "4  Discover the architectural secrets of Frank Ll...       Challenging   \n",
       "\n",
       "                         set_name  star_rating    theme_name  val_star_rating  \\\n",
       "0           Bird Island Egg Heist          4.5  Angry Birds™              4.0   \n",
       "1              Piggy Plane Attack          5.0  Angry Birds™              4.0   \n",
       "2                Piggy Car Escape          4.3  Angry Birds™              4.1   \n",
       "3  United States Capitol Building          4.6  Architecture              4.3   \n",
       "4   Solomon R. Guggenheim Museum®          4.6  Architecture              4.1   \n",
       "\n",
       "  country  \n",
       "0      US  \n",
       "1      US  \n",
       "2      US  \n",
       "3      US  \n",
       "4      US  "
      ]
     },
     "execution_count": 6,
     "metadata": {},
     "output_type": "execute_result"
    }
   ],
   "source": [
    "df = pd.read_csv('lego_sets.csv') #Loads the dataframe in\n",
    "print(len(df)) #Prints the length of the dataframe\n",
    "df.head() #Uses a built in method common to all Pandas Dataframes"
   ]
  },
  {
   "cell_type": "markdown",
   "metadata": {},
   "source": [
    "## Python Comments\n",
    "\n",
    "Note the green text following the pound sign **#**.  \n",
    "Anything following a **#** in Python is a comment and will get executed.  \n",
    "This is a useful feature for annotating your code with notes for yourself and others so that your code is easy to read."
   ]
  },
  {
   "cell_type": "markdown",
   "metadata": {},
   "source": [
    "## Accessing Methods from Packages and Objects\n",
    "\n",
    "A little more theory and context:\n",
    "\n",
    "When we loaded in packages in our first cell block (using the `import` commands), we loaded code into memory. That code included functions, variables, and other objects. Collectively, all of these items are loaded under the package name or alias.  \n",
    "\n",
    "We demonstrated this when we used the **pd.read_csv()** method above.  \n",
    "\n",
    "This also demonstrates the **dot notation** in Python, which is how we access built in methods or attributes of a given object. Similar to what we saw with bash in the command line, we can also use **tab completion** to preview methods available in packages or other objects.  \n",
    "\n",
    "### Try this out yourself\n",
    "\n",
    "* In the cell below, navigate your cursor to the right of **pd.**\n",
    "* Press tab to see a list of available methods/attributes\n",
    "\n",
    "<img src=\"images/pd_methods.png\" width=\"600\">"
   ]
  },
  {
   "cell_type": "code",
   "execution_count": null,
   "metadata": {},
   "outputs": [],
   "source": [
    "pd."
   ]
  },
  {
   "cell_type": "markdown",
   "metadata": {},
   "source": [
    "You can also start typing to subset the list of available commands:\n",
    "<img src=\"images/pd_read_methods.png\" width=\"500\">"
   ]
  },
  {
   "cell_type": "markdown",
   "metadata": {},
   "source": [
    "## Pulling up Docstrings\n",
    "\n",
    "Even better, you can even see how a method works by pulling up its **docstring**!  \n",
    "You can do this by writing **?** after the method and running the cell.\n",
    "\n",
    "<img src=\"images/docstring.png\" width=\"800\"> \n",
    "\n",
    "\n",
    "Try it out!"
   ]
  },
  {
   "cell_type": "code",
   "execution_count": 7,
   "metadata": {},
   "outputs": [],
   "source": [
    "pd.read_csv?"
   ]
  },
  {
   "cell_type": "markdown",
   "metadata": {},
   "source": [
    "Alternatively, you can pull up a preview of the docstring by pressing **shift+tab within the parentheses of a method**\n",
    "<img src=\"images/docstring_preview.png\" width=\"800\">"
   ]
  },
  {
   "cell_type": "code",
   "execution_count": null,
   "metadata": {},
   "outputs": [],
   "source": [
    "pd.read_csv() #Move your cursor inside the parentheses and press shift+tab"
   ]
  },
  {
   "cell_type": "markdown",
   "metadata": {},
   "source": [
    "## Variables\n",
    "\n",
    "The other thing that happened in our block of code above was that we defined a **variable**.  \n",
    "\n",
    "This happened in this line of code:  \n",
    "```df = pd.read_csv('lego_sets.csv')```\n",
    "\n",
    "As we saw, we used the built in *read_csv* method from the *pandas* package which we imported under the *alias* *pd*. \n",
    "\n",
    "The output of this method was then assigned to the variable *df*. This is the standard syntax for declaring any variable. You do not have to specify variable types, as in many other programming languages. Simply:  \n",
    "\n",
    "`variable_name = what_to_store_in_the_variable`"
   ]
  },
  {
   "cell_type": "markdown",
   "metadata": {},
   "source": [
    "## Built-in Python Functions\n",
    "\n",
    "We also used two built in Python functions:  \n",
    "    * `len()` #Returns the lenght of an object\n",
    "    * `print()` #Prints stuff!\n",
    "In general, **Python has reserved keywords** for built in functions like this. \n",
    "**Be sure to not name your variables any of these!**\n",
    "\n",
    "<img src=\"images/python_built_in_functions.png\" width=\"700\">"
   ]
  },
  {
   "cell_type": "markdown",
   "metadata": {},
   "source": [
    "You can also check what type of object something is using the built in **type()** method. This can be useful when determining how to work with an object that you are unfamiliar with."
   ]
  },
  {
   "cell_type": "code",
   "execution_count": 8,
   "metadata": {},
   "outputs": [
    {
     "data": {
      "text/plain": [
       "pandas.core.frame.DataFrame"
      ]
     },
     "execution_count": 8,
     "metadata": {},
     "output_type": "execute_result"
    }
   ],
   "source": [
    "type(df)"
   ]
  },
  {
   "cell_type": "markdown",
   "metadata": {},
   "source": [
    "## Common DataFrame Methods\n",
    "As you can see, the variable **df** is a DataFrame object (which is part of the Pandas core package). Here's some other common methods you will want to become familiar with when working with Pandas dataframes:  \n",
    "* `df.head()` \n",
    "    * Preview the first 5 rows of a dataframe. Pass a number for more/less rows\n",
    "* `df.tail(10)` \n",
    "    * Preview last 10 rows (default 5 if no number given)\n",
    "* `df.info()`  \n",
    "    * Returns column names and details about each column\n",
    "* `df.columns`  \n",
    "    * Return column names. Note that there is no parentheses for this. This is becuase this is an attribute as opposed to a method"
   ]
  },
  {
   "cell_type": "code",
   "execution_count": 17,
   "metadata": {},
   "outputs": [],
   "source": [
    "#Practice using some of these methods"
   ]
  },
  {
   "cell_type": "code",
   "execution_count": 16,
   "metadata": {},
   "outputs": [],
   "source": [
    "#Use tab completion to investigate at least 3 other methods of the df object. \n",
    "#Pull up their docstrings and investigate what they do."
   ]
  },
  {
   "cell_type": "markdown",
   "metadata": {},
   "source": [
    "## Pandas Series\n",
    "\n",
    "While the entire spreadsheet is called a **dataframe**, each individual column is known as a **series**. You can access a specific column of a pandas dataframe one of two ways:  \n",
    "\n",
    "`df['col_name']`\n",
    "\n",
    "or  \n",
    "\n",
    "```df.col_name```\n",
    "\n",
    "First note that in `df['col_name']` we need 'quotations' around the column name. The quotations denote the column name is a **string**, Python's built in variable type for storing text. This can alternatively be replaced with double quotes `df[\"col_name\"]`. In general, anything in quotations is a string in Python code. Occasionally, with very ill formatted column names with quotations in the names themselves, you may even need to wrap a name in triple quotes `df[\"\"\"col_name\"\"\"]` . This will rarely happen in this particular context, but it's the general pattern for dealing with messy strings.   \n",
    "\n",
    "Note that the second way, `df.col_name`, will only work if there are no spaces within the name of the column. Similar to tab completion with the command line, this is a primary reason why programmers use dashes (-) and underscores (_) in lieu of whitespace in their variable and file names. Also note that no quotations are used when using this format. (The column names have been stored as attributes of the DataFrame object!)"
   ]
  },
  {
   "cell_type": "code",
   "execution_count": 18,
   "metadata": {},
   "outputs": [],
   "source": [
    "#Previewing Data"
   ]
  },
  {
   "cell_type": "code",
   "execution_count": 19,
   "metadata": {},
   "outputs": [
    {
     "data": {
      "text/html": [
       "<div>\n",
       "<style scoped>\n",
       "    .dataframe tbody tr th:only-of-type {\n",
       "        vertical-align: middle;\n",
       "    }\n",
       "\n",
       "    .dataframe tbody tr th {\n",
       "        vertical-align: top;\n",
       "    }\n",
       "\n",
       "    .dataframe thead th {\n",
       "        text-align: right;\n",
       "    }\n",
       "</style>\n",
       "<table border=\"1\" class=\"dataframe\">\n",
       "  <thead>\n",
       "    <tr style=\"text-align: right;\">\n",
       "      <th></th>\n",
       "      <th>ages</th>\n",
       "      <th>list_price</th>\n",
       "      <th>num_reviews</th>\n",
       "      <th>piece_count</th>\n",
       "      <th>play_star_rating</th>\n",
       "      <th>prod_desc</th>\n",
       "      <th>prod_id</th>\n",
       "      <th>prod_long_desc</th>\n",
       "      <th>review_difficulty</th>\n",
       "      <th>set_name</th>\n",
       "      <th>star_rating</th>\n",
       "      <th>theme_name</th>\n",
       "      <th>val_star_rating</th>\n",
       "      <th>country</th>\n",
       "    </tr>\n",
       "  </thead>\n",
       "  <tbody>\n",
       "    <tr>\n",
       "      <td>0</td>\n",
       "      <td>6-12</td>\n",
       "      <td>29.99</td>\n",
       "      <td>2.0</td>\n",
       "      <td>277.0</td>\n",
       "      <td>4.0</td>\n",
       "      <td>Catapult into action and take back the eggs fr...</td>\n",
       "      <td>75823.0</td>\n",
       "      <td>Use the staircase catapult to launch Red into ...</td>\n",
       "      <td>Average</td>\n",
       "      <td>Bird Island Egg Heist</td>\n",
       "      <td>4.5</td>\n",
       "      <td>Angry Birds™</td>\n",
       "      <td>4.0</td>\n",
       "      <td>US</td>\n",
       "    </tr>\n",
       "    <tr>\n",
       "      <td>1</td>\n",
       "      <td>6-12</td>\n",
       "      <td>19.99</td>\n",
       "      <td>2.0</td>\n",
       "      <td>168.0</td>\n",
       "      <td>4.0</td>\n",
       "      <td>Launch a flying attack and rescue the eggs fro...</td>\n",
       "      <td>75822.0</td>\n",
       "      <td>Pilot Pig has taken off from Bird Island with ...</td>\n",
       "      <td>Easy</td>\n",
       "      <td>Piggy Plane Attack</td>\n",
       "      <td>5.0</td>\n",
       "      <td>Angry Birds™</td>\n",
       "      <td>4.0</td>\n",
       "      <td>US</td>\n",
       "    </tr>\n",
       "  </tbody>\n",
       "</table>\n",
       "</div>"
      ],
      "text/plain": [
       "   ages  list_price  num_reviews  piece_count  play_star_rating  \\\n",
       "0  6-12       29.99          2.0        277.0               4.0   \n",
       "1  6-12       19.99          2.0        168.0               4.0   \n",
       "\n",
       "                                           prod_desc  prod_id  \\\n",
       "0  Catapult into action and take back the eggs fr...  75823.0   \n",
       "1  Launch a flying attack and rescue the eggs fro...  75822.0   \n",
       "\n",
       "                                      prod_long_desc review_difficulty  \\\n",
       "0  Use the staircase catapult to launch Red into ...           Average   \n",
       "1  Pilot Pig has taken off from Bird Island with ...              Easy   \n",
       "\n",
       "                set_name  star_rating    theme_name  val_star_rating country  \n",
       "0  Bird Island Egg Heist          4.5  Angry Birds™              4.0      US  \n",
       "1     Piggy Plane Attack          5.0  Angry Birds™              4.0      US  "
      ]
     },
     "execution_count": 19,
     "metadata": {},
     "output_type": "execute_result"
    }
   ],
   "source": [
    "df.head(2) #preview your spreadsheet again; 2 keeps it a nice small preview"
   ]
  },
  {
   "cell_type": "code",
   "execution_count": 20,
   "metadata": {},
   "outputs": [
    {
     "data": {
      "text/plain": [
       "0    6-12\n",
       "1    6-12\n",
       "2    6-12\n",
       "3     12+\n",
       "4     12+\n",
       "Name: ages, dtype: object"
      ]
     },
     "execution_count": 20,
     "metadata": {},
     "output_type": "execute_result"
    }
   ],
   "source": [
    "df.ages.head()"
   ]
  },
  {
   "cell_type": "code",
   "execution_count": 21,
   "metadata": {},
   "outputs": [
    {
     "data": {
      "text/plain": [
       "0    6-12\n",
       "1    6-12\n",
       "2    6-12\n",
       "3     12+\n",
       "4     12+\n",
       "Name: ages, dtype: object"
      ]
     },
     "execution_count": 21,
     "metadata": {},
     "output_type": "execute_result"
    }
   ],
   "source": [
    "df.ages[:5] #Here we introduce another new syntax the list slice [:5] this limits us to the first 5 items"
   ]
  },
  {
   "cell_type": "markdown",
   "metadata": {},
   "source": [
    "## List and Series Slices\n",
    "Above, we introduced an entirely new programming pattern called a slice which subsets the data into smaller pieces.  \n",
    "The syntax for a slice is `[start:end]`.   \n",
    "\n",
    "You can also pass an additional third parameter `[start:end:count_by]` which will allow you to:  \n",
    "count every other: `[start:end:2]`  \n",
    "count backwards: `start:end:-1]`  \n",
    "or potentially much more cryptic patterns, depending on what you pass.  \n",
    "\n",
    "While we could have also used `df.State.head()`, slicing works for many more datatypes. This includes the previously mentioned *strings* as well as **lists** and other iterable objects. **Series**, the columns of the pandas DataFrame, are similar to Python's built in *lists*, but also have additional *methods* built in to them that we will continue to investigate."
   ]
  },
  {
   "cell_type": "code",
   "execution_count": 26,
   "metadata": {},
   "outputs": [
    {
     "data": {
      "text/plain": [
       "0     277.0\n",
       "1     168.0\n",
       "2      74.0\n",
       "3    1032.0\n",
       "4     744.0\n",
       "Name: piece_count, dtype: float64"
      ]
     },
     "execution_count": 26,
     "metadata": {},
     "output_type": "execute_result"
    }
   ],
   "source": [
    "df.piece_count.head()"
   ]
  },
  {
   "cell_type": "markdown",
   "metadata": {},
   "source": [
    "## Common Series Methods\n",
    "Some very useful series methods include those for obtaining basic summary statistics:  \n",
    "* `series.mean()` \n",
    "* `series.median()` \n",
    "* `series.min()` \n",
    "* `series.max()` \n",
    "\n",
    "There are several more but this is a very good starting point.\n",
    "Start pulling up some docstrings (using shift+tab within parentheses!) and getting acquainted with reading them yourself before we go through a few of these methods together. You can also consult the [documentation.](https://pandas.pydata.org/pandas-docs/stable/reference/series.html)"
   ]
  },
  {
   "cell_type": "code",
   "execution_count": 27,
   "metadata": {},
   "outputs": [
    {
     "data": {
      "text/plain": [
       "5.0    2219\n",
       "4.5    1136\n",
       "4.7     840\n",
       "4.0     816\n",
       "4.3     793\n",
       "4.6     685\n",
       "4.4     566\n",
       "4.8     504\n",
       "4.2     467\n",
       "4.1     320\n",
       "3.9     281\n",
       "3.6     213\n",
       "4.9     204\n",
       "3.5     204\n",
       "3.0     202\n",
       "3.2     192\n",
       "3.7     186\n",
       "3.8     148\n",
       "2.0     126\n",
       "3.3     120\n",
       "2.7      64\n",
       "1.0      42\n",
       "2.2      42\n",
       "2.5      42\n",
       "3.4      25\n",
       "2.9      21\n",
       "2.3      20\n",
       "3.1       4\n",
       "2.8       2\n",
       "2.1       2\n",
       "Name: play_star_rating, dtype: int64"
      ]
     },
     "execution_count": 27,
     "metadata": {},
     "output_type": "execute_result"
    }
   ],
   "source": [
    "df.play_star_rating.value_counts() #Read the docstring and tinker! See how it works."
   ]
  },
  {
   "cell_type": "code",
   "execution_count": 34,
   "metadata": {},
   "outputs": [
    {
     "data": {
      "text/plain": [
       "0    5.0\n",
       "dtype: float64"
      ]
     },
     "execution_count": 34,
     "metadata": {},
     "output_type": "execute_result"
    }
   ],
   "source": [
    "df.play_star_rating.mode()"
   ]
  },
  {
   "cell_type": "markdown",
   "metadata": {},
   "source": [
    "## Graphing\n",
    "\n",
    "Our bread and butter tool for graphing in Python will be **matplotlib**. \n",
    "There are a number of other packages you can also check out for visualization later on such as plotly, folium, and bokeh to name a few, but matplotlib is an industry standard used widely. As with the pandas package, we must import  the matplotlib package to use its built in functions and methods. Rather then import the entire package however, we import only the piece we intend to use (hence the dot notation) and again alias this under the shorthand *plt*. Finally, the Jupyter magic command **% matplotlib inline** makes these graphs appear within our jupyter notebook."
   ]
  },
  {
   "cell_type": "code",
   "execution_count": 35,
   "metadata": {},
   "outputs": [],
   "source": [
    "#import a subset of the matplotlib package under the alias 'plt'\n",
    "import matplotlib.pyplot as plt\n",
    "\n",
    "#ipython magic command for displaying graphs within the notebook\n",
    "%matplotlib inline"
   ]
  },
  {
   "cell_type": "code",
   "execution_count": 36,
   "metadata": {},
   "outputs": [
    {
     "data": {
      "text/plain": [
       "<matplotlib.axes._subplots.AxesSubplot at 0x127a42390>"
      ]
     },
     "execution_count": 36,
     "metadata": {},
     "output_type": "execute_result"
    },
    {
     "data": {
      "image/png": "[encoded data removed]",
      "text/plain": [
       "<Figure size 432x288 with 1 Axes>"
      ]
     },
     "metadata": {
      "needs_background": "light"
     },
     "output_type": "display_data"
    }
   ],
   "source": [
    "to_graph = df.theme_name.value_counts()[:5]\n",
    "to_graph.plot(kind='barh')"
   ]
  },
  {
   "cell_type": "markdown",
   "metadata": {},
   "source": [
    "## Adding labels\n",
    "The graph above is a good start, but we should be sure to add some labels! To do this we make successive calls to the `plt` package we imported. Some common methods you should be familiar with include:  \n",
    "* `plt.title()` \n",
    "* `plt.xlabel()` \n",
    "* `plt.ylabel()` \n",
    "\n",
    "As you might imagine, these methods allow you to add a title and labels to the X and Y axes. "
   ]
  },
  {
   "cell_type": "code",
   "execution_count": 37,
   "metadata": {},
   "outputs": [
    {
     "data": {
      "text/plain": [
       "Text(0, 0.5, 'Theme')"
      ]
     },
     "execution_count": 37,
     "metadata": {},
     "output_type": "execute_result"
    },
    {
     "data": {
      "image/png": "[encoded data removed]",
      "text/plain": [
       "<Figure size 432x288 with 1 Axes>"
      ]
     },
     "metadata": {
      "needs_background": "light"
     },
     "output_type": "display_data"
    }
   ],
   "source": [
    "to_graph = df.theme_name.value_counts()[:5]\n",
    "to_graph.plot(kind='barh') #lots of other optional parameters can be passed such as color\n",
    "plt.title('Top 5 Lego Themes', fontsize=16) #add a title and adjust font size (optional)\n",
    "plt.xlabel('Number of Lego Sets') #you could also pass in fontsize if you wanted here\n",
    "plt.ylabel('Theme')"
   ]
  },
  {
   "cell_type": "markdown",
   "metadata": {},
   "source": [
    "## Practice and Explore\n",
    "\n",
    "Take a minute to try chaining some of these methods together to create a few of your own visuals for practice. Some ideas can include making a scatter plot with `plt.scatter(x , y)` where you pass in two series (one as x and the other as y), plotting histograms with the `series.hist()` method, or creating simple bar graphs as shown above."
   ]
  },
  {
   "cell_type": "code",
   "execution_count": 38,
   "metadata": {},
   "outputs": [
    {
     "data": {
      "text/plain": [
       "<matplotlib.collections.PathCollection at 0x128b24278>"
      ]
     },
     "execution_count": 38,
     "metadata": {},
     "output_type": "execute_result"
    },
    {
     "data": {
      "image/png": "[encoded data removed]",
      "text/plain": [
       "<Figure size 432x288 with 1 Axes>"
      ]
     },
     "metadata": {
      "needs_background": "light"
     },
     "output_type": "display_data"
    }
   ],
   "source": [
    "plt.scatter(df.play_star_rating, df.star_rating)"
   ]
  },
  {
   "cell_type": "code",
   "execution_count": 45,
   "metadata": {},
   "outputs": [
    {
     "data": {
      "text/plain": [
       "<matplotlib.axes._subplots.AxesSubplot at 0x135817a20>"
      ]
     },
     "execution_count": 45,
     "metadata": {},
     "output_type": "execute_result"
    },
    {
     "data": {
      "image/png": "[encoded data removed]",
      "text/plain": [
       "<Figure size 432x288 with 1 Axes>"
      ]
     },
     "metadata": {
      "needs_background": "light"
     },
     "output_type": "display_data"
    }
   ],
   "source": [
    "df.play_star_rating.hist()"
   ]
  },
  {
   "cell_type": "code",
   "execution_count": 60,
   "metadata": {},
   "outputs": [
    {
     "data": {
      "text/plain": [
       "([<matplotlib.patches.Wedge at 0x134853518>,\n",
       "  <matplotlib.patches.Wedge at 0x1348539b0>,\n",
       "  <matplotlib.patches.Wedge at 0x134853e48>,\n",
       "  <matplotlib.patches.Wedge at 0x134860320>],\n",
       " [Text(1.0461621663333946, 0.3399186987098808, ''),\n",
       "  Text(0.37082037187929584, 1.1412678264979264, ''),\n",
       "  Text(-1.0461621902025062, 0.3399186252483017, ''),\n",
       "  Text(0.36155001885512267, -1.1127360800593555, '')])"
      ]
     },
     "execution_count": 60,
     "metadata": {},
     "output_type": "execute_result"
    },
    {
     "data": {
      "image/png": "[encoded data removed]",
      "text/plain": [
       "<Figure size 432x288 with 1 Axes>"
      ]
     },
     "metadata": {},
     "output_type": "display_data"
    }
   ],
   "source": [
    "plt.pie([1, 2, 3, 4], explode = (0, 0.1, 0, 0.07))"
   ]
  },
  {
   "cell_type": "markdown",
   "metadata": {},
   "source": [
    "## Summary\n",
    "\n",
    "Congratulations, you got some practice executing cell operations within Jupyter Notebooks and learned how to import Python packages. You also worked through your first real Data Science workflow!"
   ]
  }
 ],
 "metadata": {
  "kernelspec": {
   "display_name": "Python 3",
   "language": "python",
   "name": "python3"
  },
  "language_info": {
   "codemirror_mode": {
    "name": "ipython",
    "version": 3
   },
   "file_extension": ".py",
   "mimetype": "text/x-python",
   "name": "python",
   "nbconvert_exporter": "python",
   "pygments_lexer": "ipython3",
   "version": "3.6.9"
  }
 },
 "nbformat": 4,
 "nbformat_minor": 2
}
